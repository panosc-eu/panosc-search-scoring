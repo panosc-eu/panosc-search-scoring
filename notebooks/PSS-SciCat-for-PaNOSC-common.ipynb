{
 "cells": [
  {
   "cell_type": "markdown",
   "id": "fb938a2b-c423-421d-aafd-5291213bc020",
   "metadata": {},
   "source": [
    "# PSS common\n",
    "\n",
    "This notebook contains all the common constants and functions used across all the the PSS notebook\n",
    "\n",
    "**Disclaimer**: this notebook is just as a proof of concept. Use it as is. By using this notebook, you are releasing ESS and its team from any responsability."
   ]
  },
  {
   "cell_type": "markdown",
   "id": "0c9995dc-66cc-46d9-b5a9-32e6bcd82649",
   "metadata": {},
   "source": [
    "Credentials use to login in SciCat"
   ]
  },
  {
   "cell_type": "code",
   "execution_count": null,
   "id": "a3c72fd4-f4db-4dbb-9511-2484c0e30b5d",
   "metadata": {},
   "outputs": [],
   "source": [
    "username = '<your-username>'\n",
    "password = '<your-password>'"
   ]
  },
  {
   "cell_type": "markdown",
   "id": "7b9d415e-5a9f-4d75-a784-8c3075761f30",
   "metadata": {},
   "source": [
    "Define all the urls needed to login in to the SciCat instance and retrieve dataset and documents"
   ]
  },
  {
   "cell_type": "code",
   "execution_count": null,
   "id": "25eee7e0-8a21-4f4a-9f9f-edf63755c3e3",
   "metadata": {},
   "outputs": [],
   "source": [
    "sc_base_url = \"<your-scicat-instance-url>\" \n",
    "# Example: at ess the scicat url is https://scicat.ess.eu\n",
    "# sc_base_url = \"https://scicat.ess.eu\" \n",
    "sc_ldap_login_url = '/'.join([sc_base_url,'auth','msad'])\n",
    "sc_api_url = '/'.join([sc_base_url,'api','v3'])\n",
    "sc_functional_login_url = '/'.join([sc_api_url,'users','login'])\n",
    "sc_datasets_url = '/'.join([sc_api_url,'datasets'])\n",
    "sc_proposals_url = '/'.join([sc_api_url,'proposals'])\n",
    "sc_published_data_url = '/'.join([sc_api_url,'publisheddata'])"
   ]
  },
  {
   "cell_type": "markdown",
   "id": "0a01c37c-3d23-4ffe-8829-aab642b103b5",
   "metadata": {},
   "source": [
    "Define all the urls needed to interface with scoring system"
   ]
  },
  {
   "cell_type": "code",
   "execution_count": null,
   "id": "a76f0d40-aa45-4fc4-ba5d-e26e256a0f7e",
   "metadata": {},
   "outputs": [],
   "source": [
    "pss_base_url = \"<your-scoring-service-url>\"\n",
    "pss_items_url = '/'.join([pss_base_url,'items'])\n",
    "pss_compute_url = '/'.join([pss_base_url,'compute'])\n",
    "pss_weights_url = '/'.join([pss_base_url,'weights'])\n",
    "pss_terms_url = '/'.join([pss_base_url,'terms'])"
   ]
  },
  {
   "cell_type": "markdown",
   "id": "f58297c2-dcd1-4e63-beb8-8e1bfa83cde0",
   "metadata": {},
   "source": [
    "Define which fields in datasets and documents are going to be used for scoring.  \n",
    "Each groups has its own meaningful fields.  \n",
    "They are listed in key-value pairs. Key is the field name under field in the scoring item and value is the field name in SciCat"
   ]
  },
  {
   "cell_type": "code",
   "execution_count": null,
   "id": "1d4b34a8-edec-482d-9985-a4e859e8df36",
   "metadata": {},
   "outputs": [],
   "source": [
    "meaningful_fields = {\n",
    "    'datasets' : {\n",
    "        'title' : 'datasetName',\n",
    "        'keywords' : 'keywords',\n",
    "        'metadata' : 'scientificMetadata'\n",
    "    },\n",
    "    'documents' : {\n",
    "        'doi' : 'doi',\n",
    "        'creator' : 'creator',\n",
    "        'title' : 'title',\n",
    "        'abstract' : 'abstract',\n",
    "        'authors' : 'authors',\n",
    "        'datasets' : {\n",
    "            'owner' : 'owner',\n",
    "            'principal investigator' : 'principalInvestigator',\n",
    "            'keywords' : 'keywords',\n",
    "            'description' : 'description',\n",
    "            'title' : 'datasetName',\n",
    "            'metadata' : 'scientificMetadata'\n",
    "        }\n",
    "    }\n",
    "}"
   ]
  },
  {
   "cell_type": "markdown",
   "id": "6bbe8a7c-748f-4472-b73b-42721ca3924f",
   "metadata": {},
   "source": [
    "Libraries that we need "
   ]
  },
  {
   "cell_type": "code",
   "execution_count": null,
   "id": "363d8eaa-de73-4b45-8d0c-bf411eef2da5",
   "metadata": {},
   "outputs": [],
   "source": [
    "import requests"
   ]
  },
  {
   "cell_type": "code",
   "execution_count": null,
   "id": "ff076dc5-7a49-401f-a148-ff0c294cd6c0",
   "metadata": {},
   "outputs": [],
   "source": [
    "import urllib3"
   ]
  },
  {
   "cell_type": "code",
   "execution_count": null,
   "id": "89fcf591-a1e2-404d-9c32-2d2e91640bf8",
   "metadata": {},
   "outputs": [],
   "source": [
    "import time"
   ]
  }
 ],
 "metadata": {
  "kernelspec": {
   "display_name": "Python 3 (ipykernel)",
   "language": "python",
   "name": "python3"
  },
  "language_info": {
   "codemirror_mode": {
    "name": "ipython",
    "version": 3
   },
   "file_extension": ".py",
   "mimetype": "text/x-python",
   "name": "python",
   "nbconvert_exporter": "python",
   "pygments_lexer": "ipython3",
   "version": "3.8.11"
  }
 },
 "nbformat": 4,
 "nbformat_minor": 5
}
